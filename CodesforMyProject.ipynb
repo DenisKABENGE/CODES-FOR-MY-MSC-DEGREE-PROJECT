{
 "cells": [
  {
   "cell_type": "markdown",
   "id": "temporal-carrier",
   "metadata": {},
   "source": [
    "### Converting an integer N to a set of integers in the matrix PM whose sum is N ###"
   ]
  },
  {
   "cell_type": "code",
   "execution_count": 1,
   "id": "numerical-assault",
   "metadata": {},
   "outputs": [],
   "source": [
    "from sympy import *\n",
    "def Addends(m,N):\n",
    "    PM = ones(m)\n",
    "    for r in range(1,m):\n",
    "        for c in range(m-2, -1, -1):\n",
    "            PM[r,c] = PM[r-1, c] + PM[r, c+1]\n",
    "    pprint(PM)       \n",
    "    S = []\n",
    "    if N == 0:\n",
    "        S.append(0)\n",
    "        return S\n",
    "    r = m-1\n",
    "    c = 0\n",
    "    while N > 0:\n",
    "        e = PM[r,c]\n",
    "        if e <= N:\n",
    "            S.append(e)\n",
    "            N = N-e\n",
    "            if N != 0:\n",
    "                c = c + 1\n",
    "                if c < m:\n",
    "                    e = PM[r,c]\n",
    "                else:\n",
    "                    \n",
    "                    return 0\n",
    "        else:\n",
    "            r = r - 1\n",
    "            if r >= 0:\n",
    "                e = PM[r,c] \n",
    "            else:\n",
    "                return 0\n",
    "    return S"
   ]
  },
  {
   "cell_type": "code",
   "execution_count": 2,
   "id": "macro-movie",
   "metadata": {},
   "outputs": [
    {
     "name": "stdout",
     "output_type": "stream",
     "text": [
      "⎡ 1    1   1   1   1  1⎤\n",
      "⎢                      ⎥\n",
      "⎢ 6    5   4   3   2  1⎥\n",
      "⎢                      ⎥\n",
      "⎢21   15   10  6   3  1⎥\n",
      "⎢                      ⎥\n",
      "⎢56   35   20  10  4  1⎥\n",
      "⎢                      ⎥\n",
      "⎢126  70   35  15  5  1⎥\n",
      "⎢                      ⎥\n",
      "⎣252  126  56  21  6  1⎦\n"
     ]
    },
    {
     "data": {
      "text/plain": [
       "[126, 70, 35, 6, 3]"
      ]
     },
     "execution_count": 2,
     "metadata": {},
     "output_type": "execute_result"
    }
   ],
   "source": [
    "Addends(6,240)"
   ]
  },
  {
   "cell_type": "markdown",
   "id": "allied-rotation",
   "metadata": {},
   "source": [
    "###  Creating the secret and private keys, and the process of encrypting  ###"
   ]
  },
  {
   "cell_type": "code",
   "execution_count": 1,
   "id": "genetic-understanding",
   "metadata": {},
   "outputs": [
    {
     "name": "stdout",
     "output_type": "stream",
     "text": [
      "n= 462\n",
      "⎡ 1    1   1   1   1  1⎤\n",
      "⎢                      ⎥\n",
      "⎢ 6    5   4   3   2  1⎥\n",
      "⎢                      ⎥\n",
      "⎢21   15   10  6   3  1⎥\n",
      "⎢                      ⎥\n",
      "⎢56   35   20  10  4  1⎥\n",
      "⎢                      ⎥\n",
      "⎢126  70   35  15  5  1⎥\n",
      "⎢                      ⎥\n",
      "⎣252  126  56  21  6  1⎦\n",
      "⎡251  809  541  971  479  587⎤\n",
      "⎢                            ⎥\n",
      "⎢631  223  313  557  487  431⎥\n",
      "⎢                            ⎥\n",
      "⎢941  307  443  863  751  163⎥\n",
      "⎢                            ⎥\n",
      "⎢641  577  757  199  653  263⎥\n",
      "⎢                            ⎥\n",
      "⎢673  197  743  379  991  911⎥\n",
      "⎢                            ⎥\n",
      "⎣821  439  709  827  457  907⎦\n",
      "large_prime =  991\n",
      "d = 3\n",
      "P = 34939547854426373\n",
      "prime_digits = 17\n",
      "g =  2\n"
     ]
    }
   ],
   "source": [
    "import numpy as np\n",
    "import math as m\n",
    "import sympy as sp\n",
    "from sympy import *\n",
    "\n",
    "m = 6\n",
    "      ############ 1. maximum upper bound for the number of integers ###############\n",
    "n = sp.binomial(2*m - 1, m - 1)\n",
    "print(\"n=\",n)\n",
    "\n",
    "   \n",
    "    # 2. ##########Preliminary matrix PM  #########    \n",
    "PM = ones(m)\n",
    "for r in range(1,m):\n",
    "    for c in range(m-2, -1, -1):\n",
    "        PM[r,c] = PM[r-1, c] + PM[r, c+1]\n",
    "pprint(PM)\n",
    "        \n",
    "#  3.############ Build the secret matrix M consisting of m^2 unique primes  #########\n",
    "from sympy import randprime\n",
    "primes = []\n",
    "while len(primes) < m**2:\n",
    "        possible_prime = randprime(100, 1000)\n",
    "           \n",
    "        \n",
    "        if possible_prime not in primes:   \n",
    "            primes.append(possible_prime)  \n",
    "M = Matrix(m, m, primes)       \n",
    "pprint(M)\n",
    "\n",
    "large_prime = np.max(M)\n",
    "d = len(str(large_prime))\n",
    "print(\"large_prime = \", large_prime)\n",
    "print(\"d =\", d)\n",
    "\n",
    "#  5. ############  Generate a prime with a specific number of digits  ###########\n",
    "\n",
    "P = randprime(10**((m-1)*d+1), 10**(((m-1)*d)+2))\n",
    "prime_digits = len(str(P))\n",
    "\n",
    "print(\"P =\", P)\n",
    "print(\"prime_digits =\", prime_digits)\n",
    "\n",
    "#  6.########## Find a random primitive root g of the prime p.#############\n",
    "\n",
    "from sympy.ntheory.residue_ntheory import primitive_root\n",
    "g = primitive_root(P)\n",
    "print(\"g = \", g)\n"
   ]
  },
  {
   "cell_type": "code",
   "execution_count": 2,
   "id": "permanent-promotion",
   "metadata": {},
   "outputs": [
    {
     "data": {
      "text/latex": [
       "$\\displaystyle \\left[\\begin{matrix}26469099394504335 & 20051966710053306 & 16709320865175709 & 6860122043778780 & 6797794063069201 & 11514148859688441\\\\26048584464974220 & 25245483529292816 & 7080602562169079 & 26579972727975139 & 17591246064625301 & 20748746534787604\\\\29642757196058804 & 2073697742340357 & 21400758825851932 & 8236626698266454 & 21370804590986241 & 12913339775481529\\\\26706926686657150 & 17711193579573480 & 18650861596155697 & 14227271990362537 & 31386591655447393 & 18470144958037930\\\\1848616268687815 & 28846472007686929 & 6319902925972667 & 31335470727050038 & 6089150593860469 & 17188795634022910\\\\29114129248528315 & 26966566893976712 & 14246698470601833 & 11978524718169427 & 19217663923983228 & 17962174963538931\\end{matrix}\\right]$"
      ],
      "text/plain": [
       "Matrix([\n",
       "[26469099394504335, 20051966710053306, 16709320865175709,  6860122043778780,  6797794063069201, 11514148859688441],\n",
       "[26048584464974220, 25245483529292816,  7080602562169079, 26579972727975139, 17591246064625301, 20748746534787604],\n",
       "[29642757196058804,  2073697742340357, 21400758825851932,  8236626698266454, 21370804590986241, 12913339775481529],\n",
       "[26706926686657150, 17711193579573480, 18650861596155697, 14227271990362537, 31386591655447393, 18470144958037930],\n",
       "[ 1848616268687815, 28846472007686929,  6319902925972667, 31335470727050038,  6089150593860469, 17188795634022910],\n",
       "[29114129248528315, 26966566893976712, 14246698470601833, 11978524718169427, 19217663923983228, 17962174963538931]])"
      ]
     },
     "execution_count": 2,
     "metadata": {},
     "output_type": "execute_result"
    }
   ],
   "source": [
    "##   7.##############  Build the m × m public-key matrix PK ###################\n",
    "\n",
    "from sympy.ntheory import discrete_log\n",
    "PK = ones(m)  \n",
    "for r in range(m):\n",
    "    for c in range(m):\n",
    "        PK[r,c] = discrete_log(P, M[r,c] , g)\n",
    "PK"
   ]
  },
  {
   "cell_type": "code",
   "execution_count": 3,
   "id": "caring-error",
   "metadata": {},
   "outputs": [
    {
     "name": "stdout",
     "output_type": "stream",
     "text": [
      "Enter the plaintext message smaller than 462 to be encoded: 240\n"
     ]
    },
    {
     "data": {
      "text/latex": [
       "$\\displaystyle 66622422491600106$"
      ],
      "text/plain": [
       "66622422491600106"
      ]
     },
     "execution_count": 3,
     "metadata": {},
     "output_type": "execute_result"
    }
   ],
   "source": [
    "   ########## Encryption function ########## \n",
    "        \n",
    "import numpy as np\n",
    "\n",
    "N = int(input(f\"Enter the plaintext message smaller than {n} to be encoded: \"))\n",
    "Ciphertext = 0\n",
    "PK_value = []\n",
    "\n",
    "r = m-1\n",
    "c = 0\n",
    "while N > 0:\n",
    "    e = PM[r,c]\n",
    "    if e <= N:\n",
    "\n",
    "        PK_value.append(PK[r,c])\n",
    "        Ciphertext += PK[r,c]\n",
    "\n",
    "        N = N-e\n",
    "        if N != 0:\n",
    "            c = c + 1\n",
    "            if c < m:\n",
    "                e = PM[r,c]\n",
    "            else:\n",
    "                break\n",
    "    else:\n",
    "        r = r - 1\n",
    "        if r >= 0:\n",
    "            e = PM[r,c] \n",
    "        else:\n",
    "            break\n",
    "\n",
    "    #print(PK_value, Ciphertext)\n",
    "\n",
    "Ciphertext "
   ]
  },
  {
   "cell_type": "code",
   "execution_count": 4,
   "id": "cordless-consensus",
   "metadata": {},
   "outputs": [
    {
     "name": "stdout",
     "output_type": "stream",
     "text": [
      "Enter the ciphertext C to obtain the original message: C\n",
      "The original message is: 240\n"
     ]
    }
   ],
   "source": [
    "  #######      Decryption function         #####\n",
    "C = Ciphertext  \n",
    "Exp = pow(g, int(C), P)\n",
    "T  = Exp\n",
    "Ciphertext = input(\"Enter the ciphertext C to obtain the original message: \")\n",
    "\n",
    "def Decryption(T):\n",
    "    plaintext = 0\n",
    "    r = m-1\n",
    "    c = 0\n",
    "    while T > 1:\n",
    "        a = M[r,c]\n",
    "        if T%M[r,c] == 0:\n",
    "            plaintext += PM[r,c]\n",
    "            \n",
    "            T = T//M[r,c]\n",
    "            if T != 1:\n",
    "                c = c + 1\n",
    "                if c < m:\n",
    "                    a = M[r,c]     \n",
    "                else:\n",
    "                    return 0\n",
    "        else:\n",
    "            r = r - 1\n",
    "            if r >= 0:\n",
    "                a = M[r,c]   \n",
    "            else:\n",
    "                return 0\n",
    "    return plaintext\n",
    "plaintext = Decryption(T)\n",
    "print(\"The original message is:\", plaintext)"
   ]
  },
  {
   "cell_type": "code",
   "execution_count": 5,
   "id": "northern-juice",
   "metadata": {},
   "outputs": [
    {
     "name": "stdout",
     "output_type": "stream",
     "text": [
      "0.6569223442299312\n"
     ]
    }
   ],
   "source": [
    "######### Calculating the density d of the knapsack #########\n",
    "\n",
    "import math\n",
    "h = len(PK)\n",
    "maxA = max(PK)\n",
    "d = h/math.log(maxA,2)\n",
    "print(d)"
   ]
  },
  {
   "cell_type": "code",
   "execution_count": null,
   "id": "federal-classics",
   "metadata": {},
   "outputs": [],
   "source": []
  }
 ],
 "metadata": {
  "kernelspec": {
   "display_name": "Python 3",
   "language": "python",
   "name": "python3"
  },
  "language_info": {
   "codemirror_mode": {
    "name": "ipython",
    "version": 3
   },
   "file_extension": ".py",
   "mimetype": "text/x-python",
   "name": "python",
   "nbconvert_exporter": "python",
   "pygments_lexer": "ipython3",
   "version": "3.9.2"
  }
 },
 "nbformat": 4,
 "nbformat_minor": 5
}
