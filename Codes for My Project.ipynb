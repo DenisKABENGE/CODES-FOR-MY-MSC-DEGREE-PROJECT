{
 "cells": [
  {
   "cell_type": "markdown",
   "id": "temporal-carrier",
   "metadata": {},
   "source": [
    "### Converting an integer N to a set of integers in the matrix PM whose sum is N ###"
   ]
  },
  {
   "cell_type": "code",
   "execution_count": 1,
   "id": "numerical-assault",
   "metadata": {},
   "outputs": [],
   "source": [
    "from sympy import *\n",
    "def Addends(m,N):\n",
    "    PM = ones(m)\n",
    "    for r in range(1,m):\n",
    "        for c in range(m-2, -1, -1):\n",
    "            PM[r,c] = PM[r-1, c] + PM[r, c+1]\n",
    "    pprint(PM)       \n",
    "    S = []\n",
    "    if N == 0:\n",
    "        S.append(0)\n",
    "        return S\n",
    "    r = m-1\n",
    "    c = 0\n",
    "    while N > 0:\n",
    "        e = PM[r,c]\n",
    "        if e <= N:\n",
    "            S.append(e)\n",
    "            N = N-e\n",
    "            if N != 0:\n",
    "                c = c + 1\n",
    "                if c < m:\n",
    "                    e = PM[r,c]\n",
    "                else:\n",
    "                    \n",
    "                    return 0\n",
    "        else:\n",
    "            r = r - 1\n",
    "            if r >= 0:\n",
    "                e = PM[r,c] \n",
    "            else:\n",
    "                return 0\n",
    "    return S"
   ]
  },
  {
   "cell_type": "code",
   "execution_count": 2,
   "id": "macro-movie",
   "metadata": {},
   "outputs": [
    {
     "name": "stdout",
     "output_type": "stream",
     "text": [
      "⎡ 1    1   1   1   1  1⎤\n",
      "⎢                      ⎥\n",
      "⎢ 6    5   4   3   2  1⎥\n",
      "⎢                      ⎥\n",
      "⎢21   15   10  6   3  1⎥\n",
      "⎢                      ⎥\n",
      "⎢56   35   20  10  4  1⎥\n",
      "⎢                      ⎥\n",
      "⎢126  70   35  15  5  1⎥\n",
      "⎢                      ⎥\n",
      "⎣252  126  56  21  6  1⎦\n"
     ]
    },
    {
     "data": {
      "text/plain": [
       "[126, 70, 35, 6, 3]"
      ]
     },
     "execution_count": 2,
     "metadata": {},
     "output_type": "execute_result"
    }
   ],
   "source": [
    "Addends(6,240)"
   ]
  },
  {
   "cell_type": "markdown",
   "id": "allied-rotation",
   "metadata": {},
   "source": [
    "###  Creating the secret and private keys, and the process of encrypting  ###"
   ]
  },
  {
   "cell_type": "code",
   "execution_count": 1,
   "id": "genetic-understanding",
   "metadata": {},
   "outputs": [
    {
     "name": "stdout",
     "output_type": "stream",
     "text": [
      "n= 462\n",
      "⎡ 1    1   1   1   1  1⎤\n",
      "⎢                      ⎥\n",
      "⎢ 6    5   4   3   2  1⎥\n",
      "⎢                      ⎥\n",
      "⎢21   15   10  6   3  1⎥\n",
      "⎢                      ⎥\n",
      "⎢56   35   20  10  4  1⎥\n",
      "⎢                      ⎥\n",
      "⎢126  70   35  15  5  1⎥\n",
      "⎢                      ⎥\n",
      "⎣252  126  56  21  6  1⎦\n",
      "⎡1931  7589  9491  6991  2999  2273⎤\n",
      "⎢                                  ⎥\n",
      "⎢5953  5569  6007  6269  8291  1087⎥\n",
      "⎢                                  ⎥\n",
      "⎢7789  5557  9391  4391  8887  4373⎥\n",
      "⎢                                  ⎥\n",
      "⎢9781  3407  2053  6133  9767  7283⎥\n",
      "⎢                                  ⎥\n",
      "⎢8263  6131  8231  8783  4349  7177⎥\n",
      "⎢                                  ⎥\n",
      "⎣3343  9839  4409  6689  4111  1009⎦\n",
      "large_prime =  9839\n",
      "d = 4\n",
      "P = 8646233881205732079937\n",
      "prime_digits = 22\n",
      "g =  5\n"
     ]
    }
   ],
   "source": [
    "import numpy as np\n",
    "import math as m\n",
    "import sympy as sp\n",
    "from sympy import *\n",
    "\n",
    "m = 6\n",
    "      ############ 1. maximum upper bound for the number of integers ###############\n",
    "n = sp.binomial(2*m - 1, m - 1)\n",
    "print(\"n=\",n)\n",
    "\n",
    "   \n",
    "    # 2. ##########Preliminary matrix PM  #########    \n",
    "PM = ones(m)\n",
    "for r in range(1,m):\n",
    "    for c in range(m-2, -1, -1):\n",
    "        PM[r,c] = PM[r-1, c] + PM[r, c+1]\n",
    "pprint(PM)\n",
    "        \n",
    "#  3.############ Build the secret matrix M consisting of m^2 unique primes  #########\n",
    "from sympy import randprime\n",
    "primes = []\n",
    "while len(primes) < m**2:\n",
    "        possible_prime = randprime(1000, 10000)\n",
    "           \n",
    "        \n",
    "        if possible_prime not in primes:   \n",
    "            primes.append(possible_prime)  \n",
    "M = Matrix(m, m, primes)       \n",
    "pprint(M)\n",
    "\n",
    "large_prime = np.max(M)\n",
    "d = len(str(large_prime))\n",
    "print(\"large_prime = \", large_prime)\n",
    "print(\"d =\", d)\n",
    "\n",
    "#  5. ############  Generate a prime with a specific number of digits  ###########\n",
    "\n",
    "P = randprime(10**((m-1)*d+1), 10**(((m-1)*d)+2))\n",
    "prime_digits = len(str(P))\n",
    "\n",
    "print(\"P =\", P)\n",
    "print(\"prime_digits =\", prime_digits)\n",
    "\n",
    "#  6.########## Find a random primitive root g of the prime p.#############\n",
    "\n",
    "from sympy.ntheory.residue_ntheory import primitive_root\n",
    "g = primitive_root(P)\n",
    "print(\"g = \", g)\n"
   ]
  },
  {
   "cell_type": "code",
   "execution_count": 2,
   "id": "permanent-promotion",
   "metadata": {},
   "outputs": [
    {
     "data": {
      "text/latex": [
       "$\\displaystyle \\left[\\begin{matrix}3513638306240395708684 & 8285235581672893768599 & 3262353008550827429241 & 5973035932918760818507 & 3250080377903050240705 & 5302200637938432773637\\\\6932142338537196070042 & 2475843286740539215723 & 4540991183080753229458 & 2969669201832701456216 & 6964359472323991168694 & 3550567917614286157028\\\\2268097160370026875027 & 2824608659128347150065 & 4974624665510876075285 & 2387729857058522770242 & 5247077690816543629637 & 2351638020065946849231\\\\4043715121866765880384 & 3570158943636094611730 & 726460908345750827312 & 2966975362770575278831 & 5159838132338239856918 & 7807824132261253260254\\\\6286508851078176249381 & 3580302265667170149808 & 5361312127516479786150 & 2506970133007246105842 & 4256470012651935729195 & 414658574283881913001\\\\6511272427687013967477 & 7507060448334145077049 & 7812907987139914025867 & 2880529527341963706536 & 3618984181578774215810 & 5498345295776494858913\\end{matrix}\\right]$"
      ],
      "text/plain": [
       "Matrix([\n",
       "[3513638306240395708684, 8285235581672893768599, 3262353008550827429241, 5973035932918760818507, 3250080377903050240705, 5302200637938432773637],\n",
       "[6932142338537196070042, 2475843286740539215723, 4540991183080753229458, 2969669201832701456216, 6964359472323991168694, 3550567917614286157028],\n",
       "[2268097160370026875027, 2824608659128347150065, 4974624665510876075285, 2387729857058522770242, 5247077690816543629637, 2351638020065946849231],\n",
       "[4043715121866765880384, 3570158943636094611730,  726460908345750827312, 2966975362770575278831, 5159838132338239856918, 7807824132261253260254],\n",
       "[6286508851078176249381, 3580302265667170149808, 5361312127516479786150, 2506970133007246105842, 4256470012651935729195,  414658574283881913001],\n",
       "[6511272427687013967477, 7507060448334145077049, 7812907987139914025867, 2880529527341963706536, 3618984181578774215810, 5498345295776494858913]])"
      ]
     },
     "execution_count": 2,
     "metadata": {},
     "output_type": "execute_result"
    }
   ],
   "source": [
    "##   7.##############  Build the m × m public-key matrix PK ###################\n",
    "\n",
    "from sympy.ntheory import discrete_log\n",
    "PK = ones(m)  \n",
    "for r in range(m):\n",
    "    for c in range(m):\n",
    "        PK[r,c] = discrete_log(P, M[r,c] , g)\n",
    "PK"
   ]
  },
  {
   "cell_type": "code",
   "execution_count": 3,
   "id": "caring-error",
   "metadata": {},
   "outputs": [
    {
     "name": "stdout",
     "output_type": "stream",
     "text": [
      "Enter the plaintext message smaller than 462 to be encoded: 240\n"
     ]
    },
    {
     "data": {
      "text/latex": [
       "$\\displaystyle 22862930792136892585218$"
      ],
      "text/plain": [
       "22862930792136892585218"
      ]
     },
     "execution_count": 3,
     "metadata": {},
     "output_type": "execute_result"
    }
   ],
   "source": [
    "   ########## Encryption function ########## \n",
    "        \n",
    "import numpy as np\n",
    "\n",
    "N = int(input(f\"Enter the plaintext message smaller than {n} to be encoded: \"))\n",
    "Ciphertext = 0\n",
    "PK_value = []\n",
    "\n",
    "r = m-1\n",
    "c = 0\n",
    "while N > 0:\n",
    "    e = PM[r,c]\n",
    "    if e <= N:\n",
    "\n",
    "        PK_value.append(PK[r,c])\n",
    "        Ciphertext += PK[r,c]\n",
    "\n",
    "        N = N-e\n",
    "        if N != 0:\n",
    "            c = c + 1\n",
    "            if c < m:\n",
    "                e = PM[r,c]\n",
    "            else:\n",
    "                break\n",
    "    else:\n",
    "        r = r - 1\n",
    "        if r >= 0:\n",
    "            e = PM[r,c] \n",
    "        else:\n",
    "            break\n",
    "\n",
    "    #print(PK_value, Ciphertext)\n",
    "\n",
    "Ciphertext "
   ]
  },
  {
   "cell_type": "code",
   "execution_count": 4,
   "id": "cordless-consensus",
   "metadata": {},
   "outputs": [
    {
     "name": "stdout",
     "output_type": "stream",
     "text": [
      "Enter the ciphertext C to obtain the original message: C\n",
      "The original message is: 240\n"
     ]
    }
   ],
   "source": [
    "  #######      Decryption function         #####\n",
    "C = Ciphertext  \n",
    "Exp = pow(g, int(C), P)\n",
    "T  = Exp\n",
    "Ciphertext = input(\"Enter the ciphertext C to obtain the original message: \")\n",
    "\n",
    "def Decryption(T):\n",
    "    plaintext = 0\n",
    "    r = m-1\n",
    "    c = 0\n",
    "    while T > 1:\n",
    "        a = M[r,c]\n",
    "        if T%M[r,c] == 0:\n",
    "            plaintext += PM[r,c]\n",
    "            \n",
    "            T = T//M[r,c]\n",
    "            if T != 1:\n",
    "                c = c + 1\n",
    "                if c < m:\n",
    "                    a = M[r,c]     \n",
    "                else:\n",
    "                    return 0\n",
    "        else:\n",
    "            r = r - 1\n",
    "            if r >= 0:\n",
    "                a = M[r,c]   \n",
    "            else:\n",
    "                return 0\n",
    "    return plaintext\n",
    "plaintext = Decryption(T)\n",
    "print(\"The original message is:\", plaintext)"
   ]
  },
  {
   "cell_type": "code",
   "execution_count": 5,
   "id": "northern-juice",
   "metadata": {},
   "outputs": [
    {
     "name": "stdout",
     "output_type": "stream",
     "text": [
      "0.494430564421897\n"
     ]
    }
   ],
   "source": [
    "######### Calculating the density d of the knapsack #########\n",
    "\n",
    "import math\n",
    "h = len(PK)\n",
    "maxA = max(PK)\n",
    "d = h/math.log(maxA,2)\n",
    "print(d)"
   ]
  },
  {
   "cell_type": "code",
   "execution_count": null,
   "id": "federal-classics",
   "metadata": {},
   "outputs": [],
   "source": []
  }
 ],
 "metadata": {
  "kernelspec": {
   "display_name": "Python 3",
   "language": "python",
   "name": "python3"
  },
  "language_info": {
   "codemirror_mode": {
    "name": "ipython",
    "version": 3
   },
   "file_extension": ".py",
   "mimetype": "text/x-python",
   "name": "python",
   "nbconvert_exporter": "python",
   "pygments_lexer": "ipython3",
   "version": "3.9.2"
  }
 },
 "nbformat": 4,
 "nbformat_minor": 5
}
