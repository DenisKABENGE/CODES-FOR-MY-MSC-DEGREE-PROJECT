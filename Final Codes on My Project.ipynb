{
 "cells": [
  {
   "cell_type": "markdown",
   "id": "temporal-carrier",
   "metadata": {},
   "source": [
    "### Converting an integer N to a set of integers in the matrix PM whose sum is N ###"
   ]
  },
  {
   "cell_type": "code",
   "execution_count": 1,
   "id": "numerical-assault",
   "metadata": {},
   "outputs": [],
   "source": [
    "from sympy import *\n",
    "def Addends(m,N):\n",
    "    PM = ones(m)\n",
    "    for r in range(1,m):\n",
    "        for c in range(m-2, -1, -1):\n",
    "            PM[r,c] = PM[r-1, c] + PM[r, c+1]\n",
    "    pprint(PM)       \n",
    "    S = []\n",
    "    if N == 0:\n",
    "        S.append(0)\n",
    "        return S\n",
    "    r = m-1\n",
    "    c = 0\n",
    "    while N > 0:\n",
    "        e = PM[r,c]\n",
    "        if e <= N:\n",
    "            S.append(e)\n",
    "            N = N-e\n",
    "            if N != 0:\n",
    "                c = c + 1\n",
    "                if c < m:\n",
    "                    e = PM[r,c]\n",
    "                else:\n",
    "                    \n",
    "                    return 0\n",
    "        else:\n",
    "            r = r - 1\n",
    "            if r >= 0:\n",
    "                e = PM[r,c] \n",
    "            else:\n",
    "                return 0\n",
    "    return S"
   ]
  },
  {
   "cell_type": "code",
   "execution_count": 2,
   "id": "macro-movie",
   "metadata": {},
   "outputs": [
    {
     "name": "stdout",
     "output_type": "stream",
     "text": [
      "⎡ 1    1   1   1   1  1⎤\n",
      "⎢                      ⎥\n",
      "⎢ 6    5   4   3   2  1⎥\n",
      "⎢                      ⎥\n",
      "⎢21   15   10  6   3  1⎥\n",
      "⎢                      ⎥\n",
      "⎢56   35   20  10  4  1⎥\n",
      "⎢                      ⎥\n",
      "⎢126  70   35  15  5  1⎥\n",
      "⎢                      ⎥\n",
      "⎣252  126  56  21  6  1⎦\n"
     ]
    },
    {
     "data": {
      "text/plain": [
       "[126, 70, 35, 6, 3]"
      ]
     },
     "execution_count": 2,
     "metadata": {},
     "output_type": "execute_result"
    }
   ],
   "source": [
    "Addends(6,240)"
   ]
  },
  {
   "cell_type": "markdown",
   "id": "allied-rotation",
   "metadata": {},
   "source": [
    "###  Creating the secret and private keys, and the process of encrypting  ###"
   ]
  },
  {
   "cell_type": "code",
   "execution_count": 1,
   "id": "genetic-understanding",
   "metadata": {},
   "outputs": [
    {
     "name": "stdout",
     "output_type": "stream",
     "text": [
      "n= 462\n",
      "⎡ 1    1   1   1   1  1⎤\n",
      "⎢                      ⎥\n",
      "⎢ 6    5   4   3   2  1⎥\n",
      "⎢                      ⎥\n",
      "⎢21   15   10  6   3  1⎥\n",
      "⎢                      ⎥\n",
      "⎢56   35   20  10  4  1⎥\n",
      "⎢                      ⎥\n",
      "⎢126  70   35  15  5  1⎥\n",
      "⎢                      ⎥\n",
      "⎣252  126  56  21  6  1⎦\n",
      "⎡953  887  227  431  821  653⎤\n",
      "⎢                            ⎥\n",
      "⎢157  877  137  479  769  347⎥\n",
      "⎢                            ⎥\n",
      "⎢971  457  727  673  127  937⎥\n",
      "⎢                            ⎥\n",
      "⎢857  659  719  263  113  541⎥\n",
      "⎢                            ⎥\n",
      "⎢107  379  191  337  631  419⎥\n",
      "⎢                            ⎥\n",
      "⎣739  587  593  701  809  863⎦\n",
      "large_prime =  971\n",
      "d = 3\n",
      "P = 20469489213336949\n",
      "prime_digits = 17\n",
      "g =  6\n"
     ]
    }
   ],
   "source": [
    "import numpy as np\n",
    "import math as m\n",
    "import sympy as sp\n",
    "from sympy import *\n",
    "\n",
    "m = 6\n",
    "      ############ 1. maximum upper bound for the number of integers ###############\n",
    "n = sp.binomial(2*m - 1, m - 1)\n",
    "print(\"n=\",n)\n",
    "\n",
    "   \n",
    "    # 2. ##########Preliminary matrix PM  #########    \n",
    "PM = ones(m)\n",
    "for r in range(1,m):\n",
    "    for c in range(m-2, -1, -1):\n",
    "        PM[r,c] = PM[r-1, c] + PM[r, c+1]\n",
    "pprint(PM)\n",
    "        \n",
    "#  3.############ Build the secret matrix M consisting of m^2 unique primes  #########\n",
    "from sympy import randprime\n",
    "primes = []\n",
    "while len(primes) < m**2:\n",
    "        possible_prime = randprime(100, 1000)\n",
    "           \n",
    "        \n",
    "        if possible_prime not in primes:   \n",
    "            primes.append(possible_prime)  \n",
    "M = Matrix(m, m, primes)       \n",
    "pprint(M)\n",
    "\n",
    "large_prime = np.max(M)\n",
    "d = len(str(large_prime))\n",
    "print(\"large_prime = \", large_prime)\n",
    "print(\"d =\", d)\n",
    "\n",
    "#  5. ############  Generate a prime with a specific number of digits  ###########\n",
    "\n",
    "P = randprime(10**((m-1)*d+1), 10**(((m-1)*d)+2))\n",
    "prime_digits = len(str(P))\n",
    "\n",
    "print(\"P =\", P)\n",
    "print(\"prime_digits =\", prime_digits)\n",
    "\n",
    "#  6.########## Find a random primitive root g of the prime p.#############\n",
    "\n",
    "from sympy.ntheory.residue_ntheory import primitive_root\n",
    "g = primitive_root(P)\n",
    "print(\"g = \", g)\n"
   ]
  },
  {
   "cell_type": "code",
   "execution_count": 2,
   "id": "permanent-promotion",
   "metadata": {},
   "outputs": [
    {
     "data": {
      "text/latex": [
       "$\\displaystyle \\left[\\begin{matrix}7717316934567403 & 1350690497379406 & 13632751955886581 & 18393045846322814 & 15699251578017291 & 7251281310794830\\\\3464940637631800 & 7556809044976266 & 8337019653235923 & 16563719202025928 & 11614928653493830 & 2191422125307999\\\\14259750192991916 & 14169736166106795 & 15935761021348998 & 11365605576102160 & 17859239936735024 & 9683588712848515\\\\16503459921935625 & 13718415063853077 & 12395144495424243 & 10206461267615400 & 3841997023783450 & 19511337980644950\\\\11788610821388244 & 9839617643201101 & 7370227638090876 & 14536380816358289 & 978528153594972 & 6723216288447511\\\\8184950253433339 & 15125659133205525 & 7420125015336281 & 19476606249679592 & 9599272369671560 & 13838217412252415\\end{matrix}\\right]$"
      ],
      "text/plain": [
       "Matrix([\n",
       "[ 7717316934567403,  1350690497379406, 13632751955886581, 18393045846322814, 15699251578017291,  7251281310794830],\n",
       "[ 3464940637631800,  7556809044976266,  8337019653235923, 16563719202025928, 11614928653493830,  2191422125307999],\n",
       "[14259750192991916, 14169736166106795, 15935761021348998, 11365605576102160, 17859239936735024,  9683588712848515],\n",
       "[16503459921935625, 13718415063853077, 12395144495424243, 10206461267615400,  3841997023783450, 19511337980644950],\n",
       "[11788610821388244,  9839617643201101,  7370227638090876, 14536380816358289,   978528153594972,  6723216288447511],\n",
       "[ 8184950253433339, 15125659133205525,  7420125015336281, 19476606249679592,  9599272369671560, 13838217412252415]])"
      ]
     },
     "execution_count": 2,
     "metadata": {},
     "output_type": "execute_result"
    }
   ],
   "source": [
    "##   7.##############  Build the m × m public-key matrix PK ###################\n",
    "\n",
    "from sympy.ntheory import discrete_log\n",
    "PK = ones(m)  \n",
    "for r in range(m):\n",
    "    for c in range(m):\n",
    "        PK[r,c] = discrete_log(P, M[r,c] , g)\n",
    "PK"
   ]
  },
  {
   "cell_type": "code",
   "execution_count": 3,
   "id": "caring-error",
   "metadata": {},
   "outputs": [
    {
     "name": "stdout",
     "output_type": "stream",
     "text": [
      "Enter the plaintext message smaller than 462 to be encoded: 240\n"
     ]
    },
    {
     "data": {
      "text/latex": [
       "$\\displaystyle 58223301615517405$"
      ],
      "text/plain": [
       "58223301615517405"
      ]
     },
     "execution_count": 3,
     "metadata": {},
     "output_type": "execute_result"
    }
   ],
   "source": [
    "   ########## Encryption function ########## \n",
    "        \n",
    "import numpy as np\n",
    "\n",
    "N = int(input(f\"Enter the plaintext message smaller than {n} to be encoded: \"))\n",
    "Ciphertext = 0\n",
    "PK_value = []\n",
    "\n",
    "r = m-1\n",
    "c = 0\n",
    "while N > 0:\n",
    "    e = PM[r,c]\n",
    "    if e <= N:\n",
    "\n",
    "        PK_value.append(PK[r,c])\n",
    "        Ciphertext += PK[r,c]\n",
    "\n",
    "        N = N-e\n",
    "        if N != 0:\n",
    "            c = c + 1\n",
    "            if c < m:\n",
    "                e = PM[r,c]\n",
    "            else:\n",
    "                break\n",
    "    else:\n",
    "        r = r - 1\n",
    "        if r >= 0:\n",
    "            e = PM[r,c] \n",
    "        else:\n",
    "            break\n",
    "\n",
    "    #print(PK_value, Ciphertext)\n",
    "\n",
    "Ciphertext "
   ]
  },
  {
   "cell_type": "code",
   "execution_count": 4,
   "id": "cordless-consensus",
   "metadata": {},
   "outputs": [
    {
     "name": "stdout",
     "output_type": "stream",
     "text": [
      "Enter the ciphertext C to obtain the original message: C\n",
      "The original message is: 240\n"
     ]
    }
   ],
   "source": [
    "  #######      Decryption function         #####\n",
    "C = Ciphertext  \n",
    "Exp = pow(g, int(C), P)\n",
    "T  = Exp\n",
    "Ciphertext = input(\"Enter the ciphertext C to obtain the original message: \")\n",
    "\n",
    "def Decryption(T):\n",
    "    plaintext = 0\n",
    "    r = m-1\n",
    "    c = 0\n",
    "    while T > 1:\n",
    "        a = M[r,c]\n",
    "        if T%M[r,c] == 0:\n",
    "            plaintext += PM[r,c]\n",
    "            \n",
    "            T = T//M[r,c]\n",
    "            if T != 1:\n",
    "                c = c + 1\n",
    "                if c < m:\n",
    "                    a = M[r,c]     \n",
    "                else:\n",
    "                    return 0\n",
    "        else:\n",
    "            r = r - 1\n",
    "            if r >= 0:\n",
    "                a = M[r,c]   \n",
    "            else:\n",
    "                return 0\n",
    "    return plaintext\n",
    "plaintext = Decryption(T)\n",
    "print(\"The original message is:\", plaintext)"
   ]
  },
  {
   "cell_type": "code",
   "execution_count": 5,
   "id": "northern-juice",
   "metadata": {},
   "outputs": [
    {
     "name": "stdout",
     "output_type": "stream",
     "text": [
      "0.6652479363526674\n"
     ]
    }
   ],
   "source": [
    "######### Calculating the density d of the knapsack #########\n",
    "\n",
    "import math\n",
    "h = len(PK)\n",
    "maxA = max(PK)\n",
    "d = h/math.log(maxA,2)\n",
    "print(d)"
   ]
  },
  {
   "cell_type": "code",
   "execution_count": null,
   "id": "federal-classics",
   "metadata": {},
   "outputs": [],
   "source": []
  }
 ],
 "metadata": {
  "kernelspec": {
   "display_name": "Python 3",
   "language": "python",
   "name": "python3"
  },
  "language_info": {
   "codemirror_mode": {
    "name": "ipython",
    "version": 3
   },
   "file_extension": ".py",
   "mimetype": "text/x-python",
   "name": "python",
   "nbconvert_exporter": "python",
   "pygments_lexer": "ipython3",
   "version": "3.9.2"
  }
 },
 "nbformat": 4,
 "nbformat_minor": 5
}
